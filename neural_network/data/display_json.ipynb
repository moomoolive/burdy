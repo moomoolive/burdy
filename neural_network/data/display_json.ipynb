{
 "metadata": {
  "language_info": {
   "codemirror_mode": {
    "name": "ipython",
    "version": 3
   },
   "file_extension": ".py",
   "mimetype": "text/x-python",
   "name": "python",
   "nbconvert_exporter": "python",
   "pygments_lexer": "ipython3",
   "version": "3.8.5-final"
  },
  "orig_nbformat": 2,
  "kernelspec": {
   "name": "python_defaultSpec_1600111846239",
   "display_name": "Python 3.8.5 64-bit"
  }
 },
 "nbformat": 4,
 "nbformat_minor": 2,
 "cells": [
  {
   "cell_type": "code",
   "execution_count": 1,
   "metadata": {},
   "outputs": [],
   "source": [
    "import pandas as pd"
   ]
  },
  {
   "cell_type": "code",
   "execution_count": 2,
   "metadata": {},
   "outputs": [],
   "source": [
    "df = pd.read_json('sentimental_classification_data.json')"
   ]
  },
  {
   "cell_type": "code",
   "execution_count": 3,
   "metadata": {},
   "outputs": [
    {
     "output_type": "execute_result",
     "data": {
      "text/plain": "                                         Opinion Unit  Classification\n0    Anything less then a 4 Star Review is insane!!!.             2.0\n1   Honestly I'm seeing such low reviews for this ...             0.0\n2      Maybe expectations are a little high lol......             0.0\n3   I received my 3 Echo Dot devices for the Black...             2.0\n4   Installation was incredibly easy, pairing echo...             1.0\n5   If your in doubt honestly you will not regret ...             5.0\n6                     The packaging is even gorgeous.             2.0\n7                                     Sound is great.             2.0\n8               I have two on my main floor living...             1.0\n9   Ask Alexa to set volume to 4 or 5 and your roc...             0.0\n10  I've been a heavy smart phone user for years, ...             6.0\n11                             but Alexa.... amazing!             6.0\n12  Feels like part of the family lol... All jokes...             5.0\n13          Good introduction to our robot overlords.             0.0\n14  Decent sound for something the size of a hocke...             2.0",
      "text/html": "<div>\n<style scoped>\n    .dataframe tbody tr th:only-of-type {\n        vertical-align: middle;\n    }\n\n    .dataframe tbody tr th {\n        vertical-align: top;\n    }\n\n    .dataframe thead th {\n        text-align: right;\n    }\n</style>\n<table border=\"1\" class=\"dataframe\">\n  <thead>\n    <tr style=\"text-align: right;\">\n      <th></th>\n      <th>Opinion Unit</th>\n      <th>Classification</th>\n    </tr>\n  </thead>\n  <tbody>\n    <tr>\n      <th>0</th>\n      <td>Anything less then a 4 Star Review is insane!!!.</td>\n      <td>2.0</td>\n    </tr>\n    <tr>\n      <th>1</th>\n      <td>Honestly I'm seeing such low reviews for this ...</td>\n      <td>0.0</td>\n    </tr>\n    <tr>\n      <th>2</th>\n      <td>Maybe expectations are a little high lol......</td>\n      <td>0.0</td>\n    </tr>\n    <tr>\n      <th>3</th>\n      <td>I received my 3 Echo Dot devices for the Black...</td>\n      <td>2.0</td>\n    </tr>\n    <tr>\n      <th>4</th>\n      <td>Installation was incredibly easy, pairing echo...</td>\n      <td>1.0</td>\n    </tr>\n    <tr>\n      <th>5</th>\n      <td>If your in doubt honestly you will not regret ...</td>\n      <td>5.0</td>\n    </tr>\n    <tr>\n      <th>6</th>\n      <td>The packaging is even gorgeous.</td>\n      <td>2.0</td>\n    </tr>\n    <tr>\n      <th>7</th>\n      <td>Sound is great.</td>\n      <td>2.0</td>\n    </tr>\n    <tr>\n      <th>8</th>\n      <td>I have two on my main floor living...</td>\n      <td>1.0</td>\n    </tr>\n    <tr>\n      <th>9</th>\n      <td>Ask Alexa to set volume to 4 or 5 and your roc...</td>\n      <td>0.0</td>\n    </tr>\n    <tr>\n      <th>10</th>\n      <td>I've been a heavy smart phone user for years, ...</td>\n      <td>6.0</td>\n    </tr>\n    <tr>\n      <th>11</th>\n      <td>but Alexa.... amazing!</td>\n      <td>6.0</td>\n    </tr>\n    <tr>\n      <th>12</th>\n      <td>Feels like part of the family lol... All jokes...</td>\n      <td>5.0</td>\n    </tr>\n    <tr>\n      <th>13</th>\n      <td>Good introduction to our robot overlords.</td>\n      <td>0.0</td>\n    </tr>\n    <tr>\n      <th>14</th>\n      <td>Decent sound for something the size of a hocke...</td>\n      <td>2.0</td>\n    </tr>\n  </tbody>\n</table>\n</div>"
     },
     "metadata": {},
     "execution_count": 3
    }
   ],
   "source": [
    "df.head(n=15)"
   ]
  },
  {
   "cell_type": "code",
   "execution_count": 4,
   "metadata": {},
   "outputs": [
    {
     "output_type": "execute_result",
     "data": {
      "text/plain": "0.0    1439\n4.0     505\n2.0     474\n1.0     212\n6.0     174\n5.0     116\n3.0      94\nName: Classification, dtype: int64"
     },
     "metadata": {},
     "execution_count": 4
    }
   ],
   "source": [
    "df.Classification.value_counts()"
   ]
  },
  {
   "cell_type": "code",
   "execution_count": 5,
   "metadata": {},
   "outputs": [
    {
     "output_type": "execute_result",
     "data": {
      "text/plain": "                                Opinion Unit  Classification\n23252                         awesome device             NaN\n23253  Great entertainment for a good price.             NaN\n23254                     So much fun to use             NaN\n23255                       Love this thing.             NaN\n23256                            Works great             NaN",
      "text/html": "<div>\n<style scoped>\n    .dataframe tbody tr th:only-of-type {\n        vertical-align: middle;\n    }\n\n    .dataframe tbody tr th {\n        vertical-align: top;\n    }\n\n    .dataframe thead th {\n        text-align: right;\n    }\n</style>\n<table border=\"1\" class=\"dataframe\">\n  <thead>\n    <tr style=\"text-align: right;\">\n      <th></th>\n      <th>Opinion Unit</th>\n      <th>Classification</th>\n    </tr>\n  </thead>\n  <tbody>\n    <tr>\n      <th>23252</th>\n      <td>awesome device</td>\n      <td>NaN</td>\n    </tr>\n    <tr>\n      <th>23253</th>\n      <td>Great entertainment for a good price.</td>\n      <td>NaN</td>\n    </tr>\n    <tr>\n      <th>23254</th>\n      <td>So much fun to use</td>\n      <td>NaN</td>\n    </tr>\n    <tr>\n      <th>23255</th>\n      <td>Love this thing.</td>\n      <td>NaN</td>\n    </tr>\n    <tr>\n      <th>23256</th>\n      <td>Works great</td>\n      <td>NaN</td>\n    </tr>\n  </tbody>\n</table>\n</div>"
     },
     "metadata": {},
     "execution_count": 5
    }
   ],
   "source": [
    "df.tail()"
   ]
  },
  {
   "cell_type": "code",
   "execution_count": 6,
   "metadata": {},
   "outputs": [
    {
     "output_type": "execute_result",
     "data": {
      "text/plain": "(23257, 2)"
     },
     "metadata": {},
     "execution_count": 6
    }
   ],
   "source": [
    "df.shape"
   ]
  },
  {
   "cell_type": "code",
   "execution_count": 18,
   "metadata": {},
   "outputs": [
    {
     "output_type": "execute_result",
     "data": {
      "text/plain": "Opinion Unit      When it disconnects from them, it's unable to ...\nClassification                                                    4\nName: 3013, dtype: object"
     },
     "metadata": {},
     "execution_count": 18
    }
   ],
   "source": [
    "#last labeled datapoint\n",
    "\n",
    "df.iloc[3013]"
   ]
  }
 ]
}